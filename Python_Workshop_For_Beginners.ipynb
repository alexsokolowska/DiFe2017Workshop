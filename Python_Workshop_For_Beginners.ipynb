{
 "cells": [
  {
   "cell_type": "markdown",
   "metadata": {},
   "source": [
    "# Intro to Python Workshop: first steps and syntax\n"
   ]
  },
  {
   "cell_type": "markdown",
   "metadata": {},
   "source": [
    "Author: Aleksandra Sokolowska\n",
    "\n",
    "This notebook serves as an overview of the capabilities of Python. These bites of information are selected to help you write your first useful programs.  \n"
   ]
  },
  {
   "cell_type": "code",
   "execution_count": 1,
   "metadata": {
    "collapsed": false
   },
   "outputs": [
    {
     "name": "stdout",
     "output_type": "stream",
     "text": [
      "Hello world! :)\n"
     ]
    }
   ],
   "source": [
    "print \"Hello world! :)\""
   ]
  },
  {
   "cell_type": "markdown",
   "metadata": {},
   "source": [
    "### Types, variable declaration and printing"
   ]
  },
  {
   "cell_type": "code",
   "execution_count": 20,
   "metadata": {
    "collapsed": false
   },
   "outputs": [
    {
     "data": {
      "text/plain": [
       "int"
      ]
     },
     "execution_count": 20,
     "metadata": {},
     "output_type": "execute_result"
    }
   ],
   "source": [
    "type(8)"
   ]
  },
  {
   "cell_type": "code",
   "execution_count": 6,
   "metadata": {
    "collapsed": false
   },
   "outputs": [
    {
     "data": {
      "text/plain": [
       "float"
      ]
     },
     "execution_count": 6,
     "metadata": {},
     "output_type": "execute_result"
    }
   ],
   "source": [
    "type(8.0)"
   ]
  },
  {
   "cell_type": "code",
   "execution_count": 7,
   "metadata": {
    "collapsed": false
   },
   "outputs": [
    {
     "data": {
      "text/plain": [
       "str"
      ]
     },
     "execution_count": 7,
     "metadata": {},
     "output_type": "execute_result"
    }
   ],
   "source": [
    "type('c')"
   ]
  },
  {
   "cell_type": "code",
   "execution_count": 72,
   "metadata": {
    "collapsed": false
   },
   "outputs": [
    {
     "data": {
      "text/plain": [
       "bool"
      ]
     },
     "execution_count": 72,
     "metadata": {},
     "output_type": "execute_result"
    }
   ],
   "source": [
    "type(False)"
   ]
  },
  {
   "cell_type": "code",
   "execution_count": 13,
   "metadata": {
    "collapsed": false
   },
   "outputs": [
    {
     "ename": "SyntaxError",
     "evalue": "invalid syntax (<ipython-input-13-3922fa707d80>, line 1)",
     "output_type": "error",
     "traceback": [
      "\u001b[0;36m  File \u001b[0;32m\"<ipython-input-13-3922fa707d80>\"\u001b[0;36m, line \u001b[0;32m1\u001b[0m\n\u001b[0;31m    type{8}\u001b[0m\n\u001b[0m        ^\u001b[0m\n\u001b[0;31mSyntaxError\u001b[0m\u001b[0;31m:\u001b[0m invalid syntax\n"
     ]
    }
   ],
   "source": [
    "type{8}"
   ]
  },
  {
   "cell_type": "markdown",
   "metadata": {},
   "source": [
    "| Type       | Example          | \n",
    "| ------------- |:-------------:| \n",
    "| int      | 4 |  \n",
    "| float      | 8.0   |\n",
    "|string |'awesomeness' |\n",
    "|bool | True|"
   ]
  },
  {
   "cell_type": "code",
   "execution_count": 20,
   "metadata": {
    "collapsed": false,
    "scrolled": false
   },
   "outputs": [
    {
     "data": {
      "text/plain": [
       "16"
      ]
     },
     "execution_count": 20,
     "metadata": {},
     "output_type": "execute_result"
    }
   ],
   "source": [
    "2*8 "
   ]
  },
  {
   "cell_type": "code",
   "execution_count": 26,
   "metadata": {
    "collapsed": false
   },
   "outputs": [
    {
     "data": {
      "text/plain": [
       "1"
      ]
     },
     "execution_count": 26,
     "metadata": {},
     "output_type": "execute_result"
    }
   ],
   "source": [
    "8/7 #keep track of types in divisions"
   ]
  },
  {
   "cell_type": "code",
   "execution_count": 25,
   "metadata": {
    "collapsed": false
   },
   "outputs": [
    {
     "data": {
      "text/plain": [
       "1.1428571428571428"
      ]
     },
     "execution_count": 25,
     "metadata": {},
     "output_type": "execute_result"
    }
   ],
   "source": [
    "8./7"
   ]
  },
  {
   "cell_type": "code",
   "execution_count": 2,
   "metadata": {
    "collapsed": false
   },
   "outputs": [
    {
     "name": "stdout",
     "output_type": "stream",
     "text": [
      "The result is also 20.0 .\n"
     ]
    }
   ],
   "source": [
    "#this is how we define variables\n",
    "a = 10\n",
    "b = 10.\n",
    "c = a + b\n",
    "print 'The result is also %s .' %(c)\n",
    "\n"
   ]
  },
  {
   "cell_type": "markdown",
   "metadata": {},
   "source": [
    "### Functions"
   ]
  },
  {
   "cell_type": "code",
   "execution_count": 58,
   "metadata": {
    "collapsed": true
   },
   "outputs": [],
   "source": [
    "def addition(a,b):\n",
    "    return a+b"
   ]
  },
  {
   "cell_type": "code",
   "execution_count": 59,
   "metadata": {
    "collapsed": false
   },
   "outputs": [
    {
     "name": "stdout",
     "output_type": "stream",
     "text": [
      "The result is 20.0 .\n"
     ]
    }
   ],
   "source": [
    "c = addition(10,10.)\n",
    "print 'The result is %s .' %(c)"
   ]
  },
  {
   "cell_type": "code",
   "execution_count": 60,
   "metadata": {
    "collapsed": false
   },
   "outputs": [],
   "source": [
    "addition?"
   ]
  },
  {
   "cell_type": "code",
   "execution_count": 15,
   "metadata": {
    "collapsed": true
   },
   "outputs": [],
   "source": [
    "def addition(a,b):\n",
    "    \"\"\" this function adds two numbers and returns their sum\"\"\"\n",
    "    return a+b"
   ]
  },
  {
   "cell_type": "code",
   "execution_count": 16,
   "metadata": {
    "collapsed": false
   },
   "outputs": [],
   "source": [
    "addition?"
   ]
  },
  {
   "cell_type": "markdown",
   "metadata": {},
   "source": [
    "### Global  vs. local variables"
   ]
  },
  {
   "cell_type": "code",
   "execution_count": 25,
   "metadata": {
    "collapsed": true
   },
   "outputs": [],
   "source": [
    "old_company_name = \"Hooli\"\n",
    "def registry_office(old_name):\n",
    "    to_change = old_name #created only inside the function\n",
    "    new_name = \"Google\"\n",
    "    return new_name"
   ]
  },
  {
   "cell_type": "code",
   "execution_count": 24,
   "metadata": {
    "collapsed": false
   },
   "outputs": [
    {
     "name": "stdout",
     "output_type": "stream",
     "text": [
      "Hooli\n",
      "Google\n"
     ]
    },
    {
     "ename": "NameError",
     "evalue": "name 'to_change' is not defined",
     "output_type": "error",
     "traceback": [
      "\u001b[0;31m---------------------------------------------------------------------------\u001b[0m",
      "\u001b[0;31mNameError\u001b[0m                                 Traceback (most recent call last)",
      "\u001b[0;32m<ipython-input-24-31949819ac73>\u001b[0m in \u001b[0;36m<module>\u001b[0;34m()\u001b[0m\n\u001b[1;32m      2\u001b[0m \u001b[0;32mprint\u001b[0m \u001b[0mold_company_name\u001b[0m\u001b[0;34m\u001b[0m\u001b[0m\n\u001b[1;32m      3\u001b[0m \u001b[0;32mprint\u001b[0m \u001b[0mnew_name\u001b[0m\u001b[0;34m\u001b[0m\u001b[0m\n\u001b[0;32m----> 4\u001b[0;31m \u001b[0;32mprint\u001b[0m \u001b[0mto_change\u001b[0m\u001b[0;34m\u001b[0m\u001b[0m\n\u001b[0m",
      "\u001b[0;31mNameError\u001b[0m: name 'to_change' is not defined"
     ]
    }
   ],
   "source": [
    "new_name = registry_office(old_company_name)\n",
    "print old_company_name\n",
    "print new_name\n",
    "print to_change"
   ]
  },
  {
   "cell_type": "markdown",
   "metadata": {},
   "source": [
    "### Import statements: modules"
   ]
  },
  {
   "cell_type": "code",
   "execution_count": 7,
   "metadata": {
    "collapsed": true
   },
   "outputs": [],
   "source": [
    "import numpy as np # or import numpy ---> numpy.sqrt(4.0)"
   ]
  },
  {
   "cell_type": "code",
   "execution_count": 43,
   "metadata": {
    "collapsed": false
   },
   "outputs": [
    {
     "data": {
      "text/plain": [
       "2.0"
      ]
     },
     "execution_count": 43,
     "metadata": {},
     "output_type": "execute_result"
    }
   ],
   "source": [
    "np.sqrt(4.0)"
   ]
  },
  {
   "cell_type": "markdown",
   "metadata": {},
   "source": [
    "### Data structures: arrays, lists and dictionaries"
   ]
  },
  {
   "cell_type": "code",
   "execution_count": 71,
   "metadata": {
    "collapsed": false
   },
   "outputs": [
    {
     "name": "stdout",
     "output_type": "stream",
     "text": [
      "['Alan' 'Anika' 'John' 'Wolfgang']\n"
     ]
    }
   ],
   "source": [
    "#How to define LISTS\n",
    "names = ['John', 'Anika', 'Alan', 'Wolfgang']\n",
    "sort_names = np.sort(names)\n",
    "print sort_names"
   ]
  },
  {
   "cell_type": "code",
   "execution_count": 27,
   "metadata": {
    "collapsed": false
   },
   "outputs": [
    {
     "name": "stdout",
     "output_type": "stream",
     "text": [
      "[       0.    20000.   100000.  1000000.]\n"
     ]
    }
   ],
   "source": [
    "#How to define arrays\n",
    "import numpy as np\n",
    "revenue = np.array([0.0, 100000, 20000, 1e6])\n",
    "sort_number = np.sort(revenue)\n",
    "print sort_number"
   ]
  },
  {
   "cell_type": "code",
   "execution_count": 29,
   "metadata": {
    "collapsed": false
   },
   "outputs": [
    {
     "name": "stdout",
     "output_type": "stream",
     "text": [
      "['city', 'CTO', 'zip code']\n"
     ]
    }
   ],
   "source": [
    "#How to define dictionaries\n",
    "company = {'city': 'Zurich', 'zip code': 8000, 'CTO': None}\n",
    "print company.keys()"
   ]
  },
  {
   "cell_type": "code",
   "execution_count": 30,
   "metadata": {
    "collapsed": false
   },
   "outputs": [
    {
     "name": "stdout",
     "output_type": "stream",
     "text": [
      "Zurich\n",
      "8000\n",
      "None\n"
     ]
    }
   ],
   "source": [
    "print company['city']\n",
    "print company['zip code']\n",
    "print company['CTO']\n"
   ]
  },
  {
   "cell_type": "markdown",
   "metadata": {},
   "source": [
    "### Loops and conditional statements"
   ]
  },
  {
   "cell_type": "code",
   "execution_count": 32,
   "metadata": {
    "collapsed": false
   },
   "outputs": [
    {
     "name": "stdout",
     "output_type": "stream",
     "text": [
      "You want to change the world!\n",
      "Must have been booked out...\n"
     ]
    }
   ],
   "source": [
    "def my_greeting(you_came_here):\n",
    "    if you_came_here:\n",
    "        print \"You want to change the world!\"\n",
    "    elif not you_came_here:\n",
    "        print \"Must have been booked out...\"\n",
    "\n",
    "my_greeting(you_came_here=True)\n",
    "my_greeting(you_came_here=False)\n",
    "\n"
   ]
  },
  {
   "cell_type": "code",
   "execution_count": 12,
   "metadata": {
    "collapsed": false
   },
   "outputs": [
    {
     "name": "stdout",
     "output_type": "stream",
     "text": [
      "Zurich\n",
      "Geneva\n",
      "Lugano\n",
      "Lausanne\n",
      "\n",
      " Next example. \n",
      "\n",
      "Zurich\n",
      "Geneva\n",
      "Lugano\n",
      "Lausanne\n"
     ]
    }
   ],
   "source": [
    "cities = ['Zurich', 'Geneva', 'Lugano', 'Lausanne']\n",
    "for i in cities:\n",
    "    print i\n",
    "\n",
    "print \"\\n Next example. \\n\"\n",
    "\n",
    "for i in range(len(cities)):\n",
    "    print cities[i]\n",
    "    \n"
   ]
  },
  {
   "cell_type": "markdown",
   "metadata": {},
   "source": [
    "### I/O: writing numerical data to and from a file with numpy"
   ]
  },
  {
   "cell_type": "code",
   "execution_count": 34,
   "metadata": {
    "collapsed": false
   },
   "outputs": [
    {
     "name": "stdout",
     "output_type": "stream",
     "text": [
      "Python_Workshop_For_Beginners.ipynb  save1.py\r\n",
      "algorithm.png                        test.001.png\r\n",
      "\u001b[34mcode\u001b[m\u001b[m/                                test.002.png\r\n",
      "database.txt                         test.003.png\r\n"
     ]
    }
   ],
   "source": [
    "import numpy as np\n",
    "#dataset: height, weight\n",
    "database = np.array([(180, 70), (168, 55)])\n",
    "#save the file\n",
    "np.savetxt('./database.txt', database)\n",
    "%ls\n"
   ]
  },
  {
   "cell_type": "code",
   "execution_count": 35,
   "metadata": {
    "collapsed": false
   },
   "outputs": [
    {
     "name": "stdout",
     "output_type": "stream",
     "text": [
      "Height in the file:  [ 180.  168.]\n",
      "Weight in the file:  [ 70.  55.]\n"
     ]
    }
   ],
   "source": [
    "#load the file\n",
    "data = np.genfromtxt('./database.txt', names=['height', 'weight'])\n",
    "print \"Height in the file: \", data['height']\n",
    "print \"Weight in the file: \", data['weight']\n"
   ]
  },
  {
   "cell_type": "markdown",
   "metadata": {},
   "source": [
    "### Simple data analysis"
   ]
  },
  {
   "cell_type": "code",
   "execution_count": 36,
   "metadata": {
    "collapsed": false
   },
   "outputs": [
    {
     "data": {
      "text/plain": [
       "<matplotlib.legend.Legend at 0x1096f3e50>"
      ]
     },
     "execution_count": 36,
     "metadata": {},
     "output_type": "execute_result"
    },
    {
     "data": {
      "image/png": "[encoded data removed]",
      "text/plain": [
       "<matplotlib.figure.Figure at 0x1096f3c90>"
      ]
     },
     "metadata": {},
     "output_type": "display_data"
    }
   ],
   "source": [
    "#plot the data\n",
    "%matplotlib inline \n",
    "import matplotlib.pyplot as plt, numpy as np\n",
    "x = np.arange(-100,100,0.1)\n",
    "y = x**2\n",
    "plt.plot(x,y, label=r\"$f(x)=x^2$\")\n",
    "plt.xlabel(\"x\")\n",
    "plt.ylabel(\"$f(x)$\")\n",
    "plt.legend(loc=9)"
   ]
  },
  {
   "cell_type": "markdown",
   "metadata": {},
   "source": [
    "### Hands-on session\n",
    "##### Exercise. Run a script from the command line and inside the notebook\n",
    "Download __this file__ and put it in some working directory where you know how to find it. \n",
    "1. Open it in a text editor and read it line by line. Do you understand what it is doing? \n",
    "2. Go to the command line (terminal) on your laptop, and enter the directory containing this file. Execute the previous script from the command line by typing\n",
    "```\n",
    "python name_of_that_script.py\n",
    "```\n",
    "What goes wrong? Look into the code again and try to understand it.\n",
    "\n",
    "3. Edit the code to write a number to a file. The code should let a user put in the number via the command line (use *raw_input*). Test if it works fine.\n",
    "\n",
    "4. Now, open *ipython notebook* and type\n",
    "```python\n",
    "%run name_of_that_script.py argument\n",
    "```\n",
    "where *argument* is either *read* or *write*. What happens?\n",
    "\n",
    "\n",
    "##### Project. Global warming\n",
    "Be a scientist studying global warming. Show the temperature changes on planet Earth as a function of time. Label axes, put titles on the plot, read the data from a file. Add a legend.\n",
    "\n",
    "\n",
    "\n"
   ]
  },
  {
   "cell_type": "markdown",
   "metadata": {},
   "source": [
    "__BLUEPRINT for your project__: \n",
    "Write a script in the editor or use *ipython notebook* interactively.\n",
    "\n",
    "1. Go to https://climate.nasa.gov/vital-signs/global-temperature/ and download the data. Save it in the .txt format.\n",
    "2. Import all necessary libraries (*numpy, matplotlib.pyplot*, etc.).\n",
    "3. Load and name each column of the file in your program. Use *np.genfromtxt* as in the example above. columns: year, annual mean, five-year mean\n",
    "4. Plot the data (x axis: years, y axis: temperature).\n",
    "5. Label the axes. Add a legend. \n",
    "6. Save your figure (look up online how to use *plt.savefig*).\n",
    "7. Now, edit the program to use functions. Write a function *plot_data(data)* that will do all instructions from (4):(6) when called on data.\n",
    "\n",
    "\n",
    "\n"
   ]
  }
 ],
 "metadata": {
  "anaconda-cloud": {},
  "kernelspec": {
   "display_name": "Python [default]",
   "language": "python",
   "name": "python2"
  },
  "language_info": {
   "codemirror_mode": {
    "name": "ipython",
    "version": 2
   },
   "file_extension": ".py",
   "mimetype": "text/x-python",
   "name": "python",
   "nbconvert_exporter": "python",
   "pygments_lexer": "ipython2",
   "version": "2.7.12"
  }
 },
 "nbformat": 4,
 "nbformat_minor": 1
}
